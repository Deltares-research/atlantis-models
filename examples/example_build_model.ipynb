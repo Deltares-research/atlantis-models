{
 "cells": [
  {
   "cell_type": "markdown",
   "metadata": {},
   "source": [
    "# Build subsurface model and forcing for Atlantis\n",
    "This example shows how to build a subsurface model that has the correct input variables for subsidence modelling in [Atlantis Julia](https://gitlab.com/deltares/subsidence/atlans.jl). The model is built for an example area of 5x5 km nearby Utrecht. The area is shown in the figure below.\n",
    "\n",
    "![Example area](./image/example_area.png)\n"
   ]
  },
  {
   "cell_type": "markdown",
   "metadata": {},
   "source": [
    "# Input data\n",
    "A complete model for the Netherlands and with the most level of detail is composed from the [BRO bodemkaart](), [GeoTOP](), [NL3D](), [AHN]() and a mean lowest groundwater table: the GLG. Below is an overview per data source:\n",
    "- BRO bodemkaart: soilmap of the complete Netherlands documenting the subsurface buildup to a depth of 1.2 m below the surface level.\n",
    "- GeoTOP: 3-dimensional voxelmodel documenting the stratigraphic and lithological subsurface buildup of the first 50 m below the surface level for most of the Netherlands (modelling for the rest of NL is still in progress). The model resolution is 100 x 100 x 0.5 [x, y, z].\n",
    "- NL3D: 3-dimensional voxelmodel documenting the stratigraphic and lithological subsurface buildup to 20 m below the surface level for the entire Netherlands. The model resolution is 250 x 250 x 1 [x, y, z] and in contrast with GeoTOP, does not differentiate between Holocene units (i.e. Holocene is a single unit).\n",
    "- AHN (Algemeen Hoogtebestand Nederland): Lidar surface level measurements for the entire Netherlands (excl. water bodies) with 0.5 x 0.5 m resolution.\n",
    "- GLG: A mean lowest groundwater table. Input for this usually comes from national scale groundwater models. A national GLG is also openly available via the [BRO](https://basisregistratieondergrond.nl/inhoud-bro/registratieobjecten/modellen/model-grondwaterspiegeldiepte-wdm/).\n",
    "\n",
    "To build a subsurface model suitable for Atlantis, AHN and GeoTOP are mandatory input. The other sources are optional. The area of this example is entirely covered by GeoTOP so only AHN, GeoTOP and the BRO Bodemkaart will be used. A GLG is thus optional and can be added at any time to the NetCDF of the eventual subsurface model.\n",
    "\n",
    "It is not possible to access the BRO bodemkaart directly so this must first be downloaded as a geopackage from the link at the top of the section. Also a selection of AHN must be downloaded (see link at the top) and converted to a 100 x 100 m grid. GeoTOP data can directly be accessed from an OPeNDAP server.\n",
    "\n",
    "### Build a model\n",
    "Below, the necessary tools are imported and the data to build the model with are instantiated."
   ]
  },
  {
   "cell_type": "code",
   "execution_count": 9,
   "metadata": {},
   "outputs": [
    {
     "name": "stdout",
     "output_type": "stream",
     "text": [
      "Load data\n"
     ]
    }
   ],
   "source": [
    "from atmod import (\n",
    "    AtlansParameters,\n",
    "    build_atlantis_model,\n",
    "    read_ahn\n",
    ")\n",
    "from atmod.bro_models import BroBodemKaart, GeoTop, Lithology\n",
    "from atmod.build_forcings import surcharge_like\n",
    "from pathlib import Path\n",
    "\n",
    "\n",
    "bbox  = (127_000, 448_000, 132_000, 453_000) # xmin, ymin, xmax, ymax of the example area\n",
    "\n",
    "path_to_soilmap = 'bro_bodemkaart.gpkg'\n",
    "path_to_ahn = 'dtm_100m.tif'\n",
    "\n",
    "path_to_soilmap = r'c:\\Users\\knaake\\OneDrive - Stichting Deltares\\Documents\\data\\dino\\bro_bodemkaart.gpkg'\n",
    "path_to_ahn = r'p:\\430-tgg-data\\ahn\\dtm_100m.tif'\n",
    "\n",
    "ahn = read_ahn(path_to_ahn, bbox=bbox)\n",
    "soilmap = BroBodemKaart.from_geopackage(path_to_soilmap, bbox=bbox)\n",
    "geotop = GeoTop.from_opendap(bbox=bbox, data_vars=['strat', 'lithok'], lazy=False)"
   ]
  },
  {
   "cell_type": "markdown",
   "metadata": {},
   "source": [
    "The above reads all data sources in the extent of the example area. GeoTOP is thus directly accessed from the OPeNDAP server, the method has the required url for the data. Only the 'strat' and 'lithok' variables of GeoTOP are downloaded as these are only required to build a subsurface model. Additionally, the 'lazy' keyword is set to False. This reads all data into memory which decreases the time it costs to build a complete model. Note that if the model area is larger, that a devices memory may not be sufficient and a model must be built in parts.\n",
    "\n",
    "Building a model also needs a selection of input paramaters for parameterizing several data variables. Atmod has a class `AtlansParameters` where each input parameter can be specified. If a parameter is not specified, a default parameter is used. This example uses only defaults. The output shows the optional input parameters."
   ]
  },
  {
   "cell_type": "code",
   "execution_count": 3,
   "metadata": {},
   "outputs": [
    {
     "name": "stdout",
     "output_type": "stream",
     "text": [
      "AtlansParameters:\n",
      "\tmodelbase: -30.0\n",
      "\tmass_fraction_organic: 0.5\n",
      "\tmass_fraction_lutum: 0.5\n",
      "\trho_bulk: 833.0\n",
      "\tshrinkage_degree: 0.7\n",
      "\tmax_oxidation_depth: 1.2\n",
      "\tno_oxidation_thickness: 0.3\n",
      "\tno_shrinkage_thickness: 0.0\n"
     ]
    }
   ],
   "source": [
    "parameters = AtlansParameters() # initialize with all default parameters\n",
    "print(parameters)"
   ]
  },
  {
   "cell_type": "markdown",
   "metadata": {},
   "source": [
    "Finally, building a model is quite simple. The end result is an Xarray Dataset with the necessary input variables except a phreatic level."
   ]
  },
  {
   "cell_type": "code",
   "execution_count": 4,
   "metadata": {},
   "outputs": [
    {
     "name": "stdout",
     "output_type": "stream",
     "text": [
      "<xarray.Dataset> Size: 4MB\n",
      "Dimensions:                 (x: 50, y: 50, layer: 76)\n",
      "Coordinates:\n",
      "  * x                       (x) float64 400B 1.27e+05 1.272e+05 ... 1.32e+05\n",
      "  * y                       (y) float64 400B 4.53e+05 4.528e+05 ... 4.48e+05\n",
      "  * layer                   (layer) int32 304B 1 2 3 4 5 6 ... 71 72 73 74 75 76\n",
      "Data variables:\n",
      "    geology                 (y, x, layer) float32 760kB 2.0 2.0 2.0 ... nan nan\n",
      "    lithology               (y, x, layer) float32 760kB 8.0 8.0 8.0 ... nan nan\n",
      "    thickness               (y, x, layer) float32 760kB 0.5 0.5 0.5 ... nan nan\n",
      "    mass_fraction_organic   (y, x, layer) float32 760kB 0.0 0.0 0.0 ... nan nan\n",
      "    surface                 (y, x) float32 10kB 2.869 -0.5485 ... 1.681 1.622\n",
      "    rho_bulk                (y, x, layer) float32 760kB 833.0 833.0 ... nan nan\n",
      "    zbase                   (y, x) float32 10kB -30.0 -30.0 ... -30.0 -30.0\n",
      "    max_oxidation_depth     (y, x) float32 10kB 1.2 1.2 1.2 1.2 ... 1.2 1.2 1.2\n",
      "    no_oxidation_thickness  (y, x) float32 10kB 0.3 0.3 0.3 0.3 ... 0.3 0.3 0.3\n",
      "    no_shrinkage_thickness  (y, x) float32 10kB 0.0 0.0 0.0 0.0 ... 0.0 0.0 0.0\n",
      "    domainbase              (y, x) float32 10kB -5.5 -5.5 -5.5 ... -0.5 0.0 0.0\n",
      "Attributes:\n",
      "    title:         geotop v01r6 (100.0m * 100.0m * 0.5m\n",
      "    references:    http://www.dinoloket.nl/detaillering-van-de-bovenste-lagen...\n",
      "    comment:       GeoTOP 1.6 (lithoklasse)\n",
      "    disclaimer:    http://www.dinoloket.nl\n",
      "    terms_of_use:  http://www.dinoloket.nl\n",
      "    institution:   TNO / Geologische Dienst Nederland\n",
      "    Conventions:   CF-1.4\n",
      "    source:        Generated by nl.tno.dino.geo3dmodel.generator.GeoTOPVoxelM...\n",
      "    history:       Generated on Thu Oct 05 17:01:25 CEST 2023\n"
     ]
    }
   ],
   "source": [
    "model = build_atlantis_model(ahn, geotop, bodemkaart=soilmap, parameters=parameters)\n",
    "print(model)"
   ]
  },
  {
   "cell_type": "markdown",
   "metadata": {},
   "source": [
    "A 'phreatic_level' can be added to the NetCDF from any GLG input. The example here shows how to add a 'dummy' GLG at a constant depth 1.2 meters below the surface level. Note that the name 'phreatic_level' is mandatory for Atlantis Julia. All other names that are shown in the model are mandatory names too."
   ]
  },
  {
   "cell_type": "code",
   "execution_count": 7,
   "metadata": {},
   "outputs": [
    {
     "name": "stdout",
     "output_type": "stream",
     "text": [
      "<xarray.Dataset> Size: 4MB\n",
      "Dimensions:                 (x: 50, y: 50, layer: 76)\n",
      "Coordinates:\n",
      "  * x                       (x) float64 400B 1.27e+05 1.272e+05 ... 1.32e+05\n",
      "  * y                       (y) float64 400B 4.53e+05 4.528e+05 ... 4.48e+05\n",
      "  * layer                   (layer) int32 304B 1 2 3 4 5 6 ... 71 72 73 74 75 76\n",
      "Data variables:\n",
      "    geology                 (y, x, layer) float32 760kB 2.0 2.0 2.0 ... nan nan\n",
      "    lithology               (y, x, layer) float32 760kB 8.0 8.0 8.0 ... nan nan\n",
      "    thickness               (y, x, layer) float32 760kB 0.5 0.5 0.5 ... nan nan\n",
      "    mass_fraction_organic   (y, x, layer) float32 760kB 0.0 0.0 0.0 ... nan nan\n",
      "    surface                 (y, x) float32 10kB 2.869 -0.5485 ... 1.681 1.622\n",
      "    rho_bulk                (y, x, layer) float32 760kB 833.0 833.0 ... nan nan\n",
      "    zbase                   (y, x) float32 10kB -30.0 -30.0 ... -30.0 -30.0\n",
      "    max_oxidation_depth     (y, x) float32 10kB 1.2 1.2 1.2 1.2 ... 1.2 1.2 1.2\n",
      "    no_oxidation_thickness  (y, x) float32 10kB 0.3 0.3 0.3 0.3 ... 0.3 0.3 0.3\n",
      "    no_shrinkage_thickness  (y, x) float32 10kB 0.0 0.0 0.0 0.0 ... 0.0 0.0 0.0\n",
      "    domainbase              (y, x) float32 10kB -5.5 -5.5 -5.5 ... -0.5 0.0 0.0\n",
      "    phreatic_level          (y, x) float32 10kB 1.669 -1.748 ... 0.4807 0.4218\n",
      "Attributes:\n",
      "    title:         geotop v01r6 (100.0m * 100.0m * 0.5m\n",
      "    references:    http://www.dinoloket.nl/detaillering-van-de-bovenste-lagen...\n",
      "    comment:       GeoTOP 1.6 (lithoklasse)\n",
      "    disclaimer:    http://www.dinoloket.nl\n",
      "    terms_of_use:  http://www.dinoloket.nl\n",
      "    institution:   TNO / Geologische Dienst Nederland\n",
      "    Conventions:   CF-1.4\n",
      "    source:        Generated by nl.tno.dino.geo3dmodel.generator.GeoTOPVoxelM...\n",
      "    history:       Generated on Thu Oct 05 17:01:25 CEST 2023\n"
     ]
    }
   ],
   "source": [
    "glg = model['surface'] - 1.2\n",
    "model['phreatic_level'] = glg\n",
    "print(model)"
   ]
  },
  {
   "cell_type": "markdown",
   "metadata": {},
   "source": [
    "### Build a forcing\n",
    "Several forcings can be applied during the modelling in Atlantis. Atmod provides easy functionality (not for every forcing yet) to build required NetCDF input data based on the extent of the subsurface model area. Forcings that can be applied in Atlantis are (see [Atlans.jl](https://gitlab.com/deltares/subsidence/atlans.jl) for an explanation of the forcings):\n",
    "- Deep subsidence (not yet implemented in atmod)\n",
    "- Stage indexation\n",
    "- Stage change (not yet implemented in atmod)\n",
    "- Aquifer head (not yet implemented in atmod)\n",
    "- Temperature (not yet implemented in atmod)\n",
    "- Surcharge\n",
    "\n",
    "The example below shows how to easily create an Xarray Dataset for the surcharge forcing. Surcharge can be added in two ways shown below:\n",
    "1. Add a cell with a specific lithology and thickness uniformly over the complete model area\n"
   ]
  },
  {
   "cell_type": "code",
   "execution_count": 10,
   "metadata": {},
   "outputs": [
    {
     "name": "stdout",
     "output_type": "stream",
     "text": [
      "<xarray.Dataset> Size: 121kB\n",
      "Dimensions:    (time: 4, layer: 1, y: 50, x: 50)\n",
      "Coordinates:\n",
      "  * time       (time) datetime64[ns] 32B 2020-01-01 2021-01-01 ... 2023-01-01\n",
      "  * layer      (layer) int32 4B 1\n",
      "  * y          (y) float64 400B 4.53e+05 4.528e+05 ... 4.482e+05 4.48e+05\n",
      "  * x          (x) float64 400B 1.27e+05 1.272e+05 ... 1.318e+05 1.32e+05\n",
      "Data variables:\n",
      "    lithology  (time, layer, y, x) int32 40kB 5 5 5 5 5 5 5 5 ... 5 5 5 5 5 5 5\n",
      "    thickness  (time, layer, y, x) float64 80kB 0.5 0.5 0.5 0.5 ... 0.5 0.5 0.5\n"
     ]
    }
   ],
   "source": [
    "import numpy as np\n",
    "\n",
    "lithology = Lithology.fine_sand\n",
    "thickness = 0.5\n",
    "\n",
    "# Use four timesteps for example\n",
    "timesteps = np.arange('2020-01-01', '2024-01-01', dtype='datetime64[Y]')\n",
    "\n",
    "surcharge = surcharge_like(model, lithology, thickness, timesteps)\n",
    "print(surcharge)"
   ]
  },
  {
   "cell_type": "markdown",
   "metadata": {},
   "source": [
    "2. Add a sequence of lithologies with corresponding thicknesses uniformly over the complete model area"
   ]
  },
  {
   "cell_type": "code",
   "execution_count": 17,
   "metadata": {},
   "outputs": [
    {
     "name": "stdout",
     "output_type": "stream",
     "text": [
      "<xarray.Dataset> Size: 241kB\n",
      "Dimensions:    (time: 4, layer: 2, y: 50, x: 50)\n",
      "Coordinates:\n",
      "  * time       (time) datetime64[ns] 32B 2020-01-01 2021-01-01 ... 2023-01-01\n",
      "  * layer      (layer) int32 8B 1 2\n",
      "  * y          (y) float64 400B 4.53e+05 4.528e+05 ... 4.482e+05 4.48e+05\n",
      "  * x          (x) float64 400B 1.27e+05 1.272e+05 ... 1.318e+05 1.32e+05\n",
      "Data variables:\n",
      "    lithology  (time, layer, y, x) int32 80kB 7 7 7 7 7 7 7 7 ... 5 5 5 5 5 5 5\n",
      "    thickness  (time, layer, y, x) float64 160kB 0.5 0.5 0.5 ... 0.25 0.25 0.25\n"
     ]
    }
   ],
   "source": [
    "lithology = np.array([Lithology.coarse_sand, Lithology.fine_sand])\n",
    "thickness = np.array([0.5, 0.25])\n",
    "\n",
    "surcharge = surcharge_like(model, lithology, thickness, timesteps) # Use the timesteps of example 1\n",
    "print(surcharge)"
   ]
  }
 ],
 "metadata": {
  "kernelspec": {
   "display_name": "Python 3",
   "language": "python",
   "name": "python3"
  },
  "language_info": {
   "codemirror_mode": {
    "name": "ipython",
    "version": 3
   },
   "file_extension": ".py",
   "mimetype": "text/x-python",
   "name": "python",
   "nbconvert_exporter": "python",
   "pygments_lexer": "ipython3",
   "version": "3.11.8"
  }
 },
 "nbformat": 4,
 "nbformat_minor": 2
}
