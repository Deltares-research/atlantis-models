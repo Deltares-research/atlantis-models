{
 "cells": [
  {
   "cell_type": "markdown",
   "metadata": {},
   "source": [
    "### Example: Download and use GeoTOP netcdf data from OPeNDAP server\n",
    "Read GeoTOP for a specific bounding box (xmin, ymin, xmax, ymax) from the OPeNDAP server. For this example we will only use the 'strat' (i.e. stratigraphy) and 'lithok' (i.e. lithology) data variables. The example will show how to plot simple maps or cross-sections and how to make some selections of specific units or lithologies.\n",
    "\n",
    "First import the required packages for the example."
   ]
  },
  {
   "cell_type": "code",
   "execution_count": 1,
   "metadata": {},
   "outputs": [],
   "source": [
    "import contextily as ctx # for background maps\n",
    "import geopandas as gpd\n",
    "from matplotlib import pyplot as plt\n",
    "from shapely.geometry import box, LineString\n",
    "\n",
    "## local imports for GeoTOP examples\n",
    "from atmod.bro_models import (\n",
    "    GeoTop,\n",
    "    Lithology,\n",
    "    StratGeoTop\n",
    ")"
   ]
  },
  {
   "cell_type": "markdown",
   "metadata": {},
   "source": [
    "We will download GeoTOP for an area of 5x5 kilometers nearby Utrecht and we will define a line that we can use to select the data for a cross-section. The bounding box and cross-section line are below. We will first plot a map of the area where we download GeoTOP and the location of the cross-section we make."
   ]
  },
  {
   "cell_type": "code",
   "execution_count": null,
   "metadata": {},
   "outputs": [],
   "source": [
    "xmin, xmax = 127_000, 132_000\n",
    "ymin, ymax = 448_000, 453_000\n",
    "\n",
    "bbox = (xmin, ymin, xmax, ymax)\n",
    "cross_section_line = LineString([[xmin+500, ymin+500], [xmax-500, ymax-500]])\n",
    "\n",
    "gdf_area = gpd.GeoDataFrame(geometry=[box(*bbox)], crs=28992)\n",
    "\n",
    "\n",
    "# plot the area and cross-section line\n",
    "fig, ax = plt.subplots()\n",
    "ax.plot(*cross_section_line.xy, c='k')\n",
    "gdf_area.plot(ax=ax, facecolor='none', edgecolor='r')\n",
    "gdf_area.buffer(3000).plot(ax=ax, facecolor='none', edgecolor='none')\n",
    "ctx.add_basemap(ax=ax, crs=gdf_area.crs)\n",
    "ax.set_xlabel('Easting [m]')\n",
    "ax.set_ylabel('Northing [m]')\n"
   ]
  },
  {
   "cell_type": "markdown",
   "metadata": {},
   "source": [
    "Next, we will download GeoTOP directly from the OPeNDAP server and create a GeoTop class instance. The GeoTop is an implementation of the VoxelModel class which holds the spatial attributes and contains selection methods. Printing the GeoTop class instance shows the available data variables, the corresponding dimensions and spatial and vertical resolution of the model. We will also show that the model bounds are the same as the requested bounding box."
   ]
  },
  {
   "cell_type": "code",
   "execution_count": null,
   "metadata": {},
   "outputs": [],
   "source": [
    "opendap_url = r'https://dinodata.nl/opendap/GeoTOP/geotop.nc'\n",
    "geotop = GeoTop.from_opendap(opendap_url, bbox=bbox, data_vars=['strat', 'lithok'])\n",
    "\n",
    "print(geotop)\n",
    "print(f'\\nmodel bounds: {geotop.bounds}')"
   ]
  },
  {
   "cell_type": "markdown",
   "metadata": {},
   "source": [
    "The GeoTop class instance is basically a reference to Xarray DataArrays so any Xarray/Numpy method can be applied to the attributes of the class attributes. For example, we can easily select specific depths and plot the stratigraphic and lithologic composition."
   ]
  },
  {
   "cell_type": "code",
   "execution_count": null,
   "metadata": {},
   "outputs": [],
   "source": [
    "fig, ax = plt.subplots(ncols=2, sharey=True, figsize=(8, 4), tight_layout=True)\n",
    "geotop['strat'].sel(z=-0.5).plot(ax=ax[0])\n",
    "geotop['lithok'].sel(z=-0.5).plot(ax=ax[1])\n",
    "ax[0].set_title('Stratigraphy -0.5 m NAP')\n",
    "ax[1].set_title('Lithology -0.5 m NAP')"
   ]
  },
  {
   "cell_type": "markdown",
   "metadata": {},
   "source": [
    "The 'strat' and 'lithok' DataArrays contain float values that indicate the stratigraphy, conform the Dutch lithostratigraphic [nomenclature](https://www.dinoloket.nl/stratigrafische-nomenclator), and the lithology conform groupings of lithoclasses. Atmod contains classes to help with easy selections of specific units and lithologies or groups of both. Below shows an example where the stratigraphy map is grouped to show the location of channel-belt units and the lithology map is grouped show the sand lithologies. "
   ]
  },
  {
   "cell_type": "code",
   "execution_count": null,
   "metadata": {},
   "outputs": [],
   "source": [
    "strat_select = geotop['strat'].sel(z=-0.5)\n",
    "litho_select = geotop['lithok'].sel(z=-0.5)\n",
    "\n",
    "sand = [Lithology.fine_sand, Lithology.medium_sand, Lithology.coarse_sand]\n",
    "\n",
    "is_channel_map = strat_select.isin(StratGeoTop.channel_belts.values)\n",
    "is_sand_map = litho_select.isin(sand)\n",
    "\n",
    "fig, ax = plt.subplots(ncols=2, sharey=True, figsize=(8, 4), tight_layout=True)\n",
    "is_channel_map.plot(ax=ax[0])\n",
    "is_sand_map.plot(ax=ax[1])\n",
    "ax[0].set_title('Is channel-belt at -0.5 m NAP')\n",
    "ax[1].set_title('Is sand at -0.5 m NAP')"
   ]
  },
  {
   "cell_type": "markdown",
   "metadata": {},
   "source": [
    "We can also relatively easily create cross-sections using our defined LineString from the start of the example. To do this, we define sample points with a specific spacing along the LineString and use their coordinates to select a cross section dataset."
   ]
  },
  {
   "cell_type": "code",
   "execution_count": null,
   "metadata": {},
   "outputs": [],
   "source": []
  }
 ],
 "metadata": {
  "kernelspec": {
   "display_name": "Python 3",
   "language": "python",
   "name": "python3"
  },
  "language_info": {
   "codemirror_mode": {
    "name": "ipython",
    "version": 3
   },
   "file_extension": ".py",
   "mimetype": "text/x-python",
   "name": "python",
   "nbconvert_exporter": "python",
   "pygments_lexer": "ipython3",
   "version": "0.0.0"
  }
 },
 "nbformat": 4,
 "nbformat_minor": 2
}
